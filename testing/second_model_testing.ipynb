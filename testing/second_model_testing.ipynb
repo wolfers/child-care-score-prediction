{
 "cells": [
  {
   "cell_type": "code",
   "execution_count": 88,
   "metadata": {},
   "outputs": [],
   "source": [
    "import pandas as pd\n",
    "import numpy as np\n",
    "from sklearn.model_selection import train_test_split\n",
    "from sklearn.ensemble import RandomForestRegressor, GradientBoostingRegressor\n",
    "from sklearn.metrics import accuracy_score, r2_score, mean_squared_error\n",
    "from sklearn.model_selection import cross_val_score, cross_validate"
   ]
  },
  {
   "cell_type": "code",
   "execution_count": 3,
   "metadata": {},
   "outputs": [],
   "source": [
    "df_ers_ccqb = pd.read_excel('data/ers_ccqb.xlsx')\n",
    "df_ers_scores1 = pd.read_excel('data/ers_rating_scores.xlsx')\n",
    "df_ers_scores2 = pd.read_excel('data/ers_rating_scores.xlsx', sheet_name=1, header=1)"
   ]
  },
  {
   "cell_type": "code",
   "execution_count": 119,
   "metadata": {},
   "outputs": [],
   "source": [
    "from DataCleaning import CleanErs"
   ]
  },
  {
   "cell_type": "code",
   "execution_count": 120,
   "metadata": {},
   "outputs": [],
   "source": [
    "data_transformer = CleanErs()"
   ]
  },
  {
   "cell_type": "code",
   "execution_count": 121,
   "metadata": {},
   "outputs": [],
   "source": [
    "X, y = data_transformer.fit_transform_train(df_ers_ccqb, df_ers_scores1, df_ers_scores2)"
   ]
  },
  {
   "cell_type": "markdown",
   "metadata": {},
   "source": [
    "### split the data to do testing"
   ]
  },
  {
   "cell_type": "code",
   "execution_count": 115,
   "metadata": {},
   "outputs": [],
   "source": [
    "X_train, X_test, y_train, y_test = train_test_split(X, y, test_size=.4)"
   ]
  },
  {
   "cell_type": "markdown",
   "metadata": {},
   "source": [
    "### make a basic random forest model"
   ]
  },
  {
   "cell_type": "code",
   "execution_count": 54,
   "metadata": {},
   "outputs": [],
   "source": [
    "forest_model = RandomForestRegressor(1000)"
   ]
  },
  {
   "cell_type": "code",
   "execution_count": 50,
   "metadata": {
    "scrolled": true
   },
   "outputs": [
    {
     "data": {
      "text/plain": [
       "RandomForestRegressor(bootstrap=True, criterion='mse', max_depth=None,\n",
       "           max_features='auto', max_leaf_nodes=None,\n",
       "           min_impurity_decrease=0.0, min_impurity_split=None,\n",
       "           min_samples_leaf=1, min_samples_split=2,\n",
       "           min_weight_fraction_leaf=0.0, n_estimators=1000, n_jobs=1,\n",
       "           oob_score=False, random_state=None, verbose=0, warm_start=False)"
      ]
     },
     "execution_count": 50,
     "metadata": {},
     "output_type": "execute_result"
    }
   ],
   "source": [
    "model.fit(X_train, y_train)"
   ]
  },
  {
   "cell_type": "markdown",
   "metadata": {},
   "source": [
    "### Let's see how it does"
   ]
  },
  {
   "cell_type": "code",
   "execution_count": 51,
   "metadata": {},
   "outputs": [
    {
     "name": "stdout",
     "output_type": "stream",
     "text": [
      "0.4000272541443217\n",
      "0.0721392319971097\n"
     ]
    }
   ],
   "source": [
    "y_pred = model.predict(X_test)\n",
    "print(mean_squared_error(y_test, y_pred))\n",
    "print(model.score(X_test, y_test))"
   ]
  },
  {
   "cell_type": "markdown",
   "metadata": {},
   "source": [
    "The scoring is ok, but I need to do some testing to see how well it's really doing"
   ]
  },
  {
   "cell_type": "code",
   "execution_count": 77,
   "metadata": {},
   "outputs": [],
   "source": [
    "forest_model = RandomForestRegressor(n_estimators=1000, max_depth=None, max_features=\"sqrt\")\n",
    "validated_dict = cross_validate(forest_model, X, y, scoring='neg_mean_squared_error', cv=10, return_train_score=False, n_jobs=-1)"
   ]
  },
  {
   "cell_type": "code",
   "execution_count": 80,
   "metadata": {},
   "outputs": [
    {
     "name": "stdout",
     "output_type": "stream",
     "text": [
      "n_estimators: 1000 max_depth: None max_features: auto MSE average: 0.3937968914975195\n",
      "n_estimators: 1000 max_depth: None max_features: sqrt MSE average: 0.3876791353908898\n",
      "n_estimators: 1000 max_depth: None max_features: log2 MSE average: 0.3860071221631916\n",
      "n_estimators: 1000 max_depth: 1000 max_features: auto MSE average: 0.3937968914975195\n",
      "n_estimators: 1000 max_depth: 1000 max_features: sqrt MSE average: 0.3876791353908898\n",
      "n_estimators: 1000 max_depth: 1000 max_features: log2 MSE average: 0.3860071221631916\n",
      "n_estimators: 1000 max_depth: 750 max_features: auto MSE average: 0.3937968914975195\n",
      "n_estimators: 1000 max_depth: 750 max_features: sqrt MSE average: 0.3876791353908898\n",
      "n_estimators: 1000 max_depth: 750 max_features: log2 MSE average: 0.3860071221631916\n",
      "n_estimators: 1000 max_depth: 460 max_features: auto MSE average: 0.3937968914975195\n",
      "n_estimators: 1000 max_depth: 460 max_features: sqrt MSE average: 0.3876791353908898\n",
      "n_estimators: 1000 max_depth: 460 max_features: log2 MSE average: 0.3860071221631916\n",
      "n_estimators: 1000 max_depth: 100 max_features: auto MSE average: 0.3937968914975195\n",
      "n_estimators: 1000 max_depth: 100 max_features: sqrt MSE average: 0.3876791353908898\n",
      "n_estimators: 1000 max_depth: 100 max_features: log2 MSE average: 0.3860071221631916\n",
      "n_estimators: 2000 max_depth: None max_features: auto MSE average: 0.3935539689735371\n",
      "n_estimators: 2000 max_depth: None max_features: sqrt MSE average: 0.3870998065735326\n",
      "n_estimators: 2000 max_depth: None max_features: log2 MSE average: 0.38521173526452185\n",
      "n_estimators: 2000 max_depth: 1000 max_features: auto MSE average: 0.3935539689735371\n",
      "n_estimators: 2000 max_depth: 1000 max_features: sqrt MSE average: 0.3870998065735326\n",
      "n_estimators: 2000 max_depth: 1000 max_features: log2 MSE average: 0.38521173526452185\n",
      "n_estimators: 2000 max_depth: 750 max_features: auto MSE average: 0.3935539689735371\n",
      "n_estimators: 2000 max_depth: 750 max_features: sqrt MSE average: 0.3870998065735326\n",
      "n_estimators: 2000 max_depth: 750 max_features: log2 MSE average: 0.38521173526452185\n",
      "n_estimators: 2000 max_depth: 460 max_features: auto MSE average: 0.3935539689735371\n",
      "n_estimators: 2000 max_depth: 460 max_features: sqrt MSE average: 0.3870998065735326\n",
      "n_estimators: 2000 max_depth: 460 max_features: log2 MSE average: 0.38521173526452185\n",
      "n_estimators: 2000 max_depth: 100 max_features: auto MSE average: 0.3935539689735371\n",
      "n_estimators: 2000 max_depth: 100 max_features: sqrt MSE average: 0.3870998065735326\n",
      "n_estimators: 2000 max_depth: 100 max_features: log2 MSE average: 0.38521173526452185\n",
      "n_estimators: 3000 max_depth: None max_features: auto MSE average: 0.39346869173330423\n",
      "n_estimators: 3000 max_depth: None max_features: sqrt MSE average: 0.3871515821215989\n",
      "n_estimators: 3000 max_depth: None max_features: log2 MSE average: 0.38575474868822235\n",
      "n_estimators: 3000 max_depth: 1000 max_features: auto MSE average: 0.39346869173330423\n",
      "n_estimators: 3000 max_depth: 1000 max_features: sqrt MSE average: 0.3871515821215989\n",
      "n_estimators: 3000 max_depth: 1000 max_features: log2 MSE average: 0.38575474868822235\n",
      "n_estimators: 3000 max_depth: 750 max_features: auto MSE average: 0.39346869173330423\n",
      "n_estimators: 3000 max_depth: 750 max_features: sqrt MSE average: 0.3871515821215989\n",
      "n_estimators: 3000 max_depth: 750 max_features: log2 MSE average: 0.38575474868822235\n",
      "n_estimators: 3000 max_depth: 460 max_features: auto MSE average: 0.39346869173330423\n",
      "n_estimators: 3000 max_depth: 460 max_features: sqrt MSE average: 0.3871515821215989\n",
      "n_estimators: 3000 max_depth: 460 max_features: log2 MSE average: 0.38575474868822235\n",
      "n_estimators: 3000 max_depth: 100 max_features: auto MSE average: 0.39346869173330423\n",
      "n_estimators: 3000 max_depth: 100 max_features: sqrt MSE average: 0.3871515821215989\n",
      "n_estimators: 3000 max_depth: 100 max_features: log2 MSE average: 0.38575474868822235\n"
     ]
    }
   ],
   "source": [
    "n_estimators = [1000, 2000, 3000]\n",
    "max_depth = [None, 1000, 750, 460, 100]\n",
    "max_features = [\"auto\", \"sqrt\", \"log2\"]\n",
    "parameter_string = \"n_estimators: {0} max_depth: {1} max_features: {2} MSE average: {3}\"\n",
    "\n",
    "for parameter1 in n_estimators:\n",
    "    for parameter2 in max_depth:\n",
    "        for parameter3 in max_features:\n",
    "            forest_model = RandomForestRegressor(n_estimators=parameter1,max_depth=parameter2,\n",
    "                                                 max_features=parameter3)\n",
    "            validate_dict = cross_validate(forest_model, X, y, scoring='neg_mean_squared_error',\n",
    "                                           cv=10, return_train_score=False, n_jobs=-1)\n",
    "            print(parameter_string.format(parameter1, parameter2, parameter3,\n",
    "                                         -validate_dict['test_score'].mean()))"
   ]
  },
  {
   "cell_type": "code",
   "execution_count": 84,
   "metadata": {},
   "outputs": [],
   "source": [
    "forest_model = RandomForestRegressor(n_estimators=1500, max_features=\"log2\")\n",
    "validated_dict = cross_validate(forest_model, X, y, scoring='neg_mean_squared_error', cv=10, return_train_score=False, n_jobs=-1)"
   ]
  },
  {
   "cell_type": "code",
   "execution_count": 86,
   "metadata": {},
   "outputs": [
    {
     "data": {
      "text/plain": [
       "0.3849977414055831"
      ]
     },
     "execution_count": 86,
     "metadata": {},
     "output_type": "execute_result"
    }
   ],
   "source": [
    "-validated_dict['test_score'].mean()"
   ]
  },
  {
   "cell_type": "markdown",
   "metadata": {},
   "source": [
    "looks like it might be getting close to good parameters. I want to try some values between 1000 and 2000 trees and then try some different sizes for max_features"
   ]
  },
  {
   "cell_type": "code",
   "execution_count": 87,
   "metadata": {},
   "outputs": [
    {
     "name": "stdout",
     "output_type": "stream",
     "text": [
      "n_estimators: 1200 max_features: log2 MSE average: 0.385529492730194\n",
      "n_estimators: 1200 max_features: 0.5 MSE average: 0.3933335224639375\n",
      "n_estimators: 1200 max_features: 0.3 MSE average: 0.39130497319638285\n",
      "n_estimators: 1200 max_features: 0.2 MSE average: 0.38998661925882333\n",
      "n_estimators: 1200 max_features: 0.15 MSE average: 0.3887110163707049\n",
      "n_estimators: 1400 max_features: log2 MSE average: 0.3847549891528976\n",
      "n_estimators: 1400 max_features: 0.5 MSE average: 0.393126831090831\n",
      "n_estimators: 1400 max_features: 0.3 MSE average: 0.3912087999654847\n",
      "n_estimators: 1400 max_features: 0.2 MSE average: 0.38986257661559504\n",
      "n_estimators: 1400 max_features: 0.15 MSE average: 0.38837889432857015\n",
      "n_estimators: 1500 max_features: log2 MSE average: 0.3849977414055831\n",
      "n_estimators: 1500 max_features: 0.5 MSE average: 0.3931938542618878\n",
      "n_estimators: 1500 max_features: 0.3 MSE average: 0.39109716856766225\n",
      "n_estimators: 1500 max_features: 0.2 MSE average: 0.3897377939233824\n",
      "n_estimators: 1500 max_features: 0.15 MSE average: 0.3882841586226885\n",
      "n_estimators: 1600 max_features: log2 MSE average: 0.3850848144736042\n",
      "n_estimators: 1600 max_features: 0.5 MSE average: 0.39320372056759795\n",
      "n_estimators: 1600 max_features: 0.3 MSE average: 0.3908757609681768\n",
      "n_estimators: 1600 max_features: 0.2 MSE average: 0.3897150091963709\n",
      "n_estimators: 1600 max_features: 0.15 MSE average: 0.3882363508421377\n",
      "n_estimators: 1800 max_features: log2 MSE average: 0.3852905104235923\n",
      "n_estimators: 1800 max_features: 0.5 MSE average: 0.39304190608790524\n",
      "n_estimators: 1800 max_features: 0.3 MSE average: 0.39076648575852113\n",
      "n_estimators: 1800 max_features: 0.2 MSE average: 0.38953479332170826\n",
      "n_estimators: 1800 max_features: 0.15 MSE average: 0.3881446433530673\n"
     ]
    }
   ],
   "source": [
    "n_estimators = [1200, 1400, 1500, 1600, 1800]\n",
    "max_features = [\"log2\", 0.5, 0.3, 0.2, 0.15]\n",
    "parameter_string = \"n_estimators: {0} max_features: {1} MSE average: {2}\"\n",
    "\n",
    "for parameter1 in n_estimators:\n",
    "    for parameter2 in max_features:\n",
    "        forest_model = RandomForestRegressor(n_estimators=parameter1,\n",
    "                                             max_features=parameter2)\n",
    "        validate_dict = cross_validate(forest_model, X, y, scoring='neg_mean_squared_error',\n",
    "                                       cv=10, return_train_score=False, n_jobs=-1)\n",
    "        print(parameter_string.format(parameter1, parameter2,\n",
    "                                     -validate_dict['test_score'].mean()))"
   ]
  },
  {
   "cell_type": "markdown",
   "metadata": {},
   "source": [
    "I'll go with 1400 estimators and log2 max features."
   ]
  },
  {
   "cell_type": "markdown",
   "metadata": {},
   "source": [
    "## Time to try gradient boosting"
   ]
  },
  {
   "cell_type": "code",
   "execution_count": 89,
   "metadata": {},
   "outputs": [
    {
     "data": {
      "text/plain": [
       "0.4200478218611781"
      ]
     },
     "execution_count": 89,
     "metadata": {},
     "output_type": "execute_result"
    }
   ],
   "source": [
    "boosting_model = GradientBoostingRegressor()\n",
    "boosting_model.fit(X_train, y_train)\n",
    "y_pred = boosting_model.predict(X_test)\n",
    "mean_squared_error(y_test, y_pred)"
   ]
  },
  {
   "cell_type": "code",
   "execution_count": 96,
   "metadata": {},
   "outputs": [],
   "source": [
    "loss = [\"ls\", \"lad\", \"huber\"]\n",
    "learning_rate = 0.01 \n",
    "n_estimators = [100, 250, 500, 750, 1000]\n",
    "max_depth = [2, 3, 4, 5]\n",
    "max_features = \"log2\""
   ]
  },
  {
   "cell_type": "code",
   "execution_count": 94,
   "metadata": {
    "scrolled": true
   },
   "outputs": [
    {
     "name": "stdout",
     "output_type": "stream",
     "text": [
      "loss: ls n_estimators: 1000 MSE average: 0.38791894813782335\n",
      "loss: ls n_estimators: 2000 MSE average: 0.38948479066100794\n",
      "loss: ls n_estimators: 3000 MSE average: 0.38863983747721637\n",
      "loss: lad n_estimators: 1000 MSE average: 0.3891073312150219\n",
      "loss: lad n_estimators: 2000 MSE average: 0.38896020158203115\n",
      "loss: lad n_estimators: 3000 MSE average: 0.38903723457857187\n",
      "loss: huber n_estimators: 1000 MSE average: 0.3900348989995601\n",
      "loss: huber n_estimators: 2000 MSE average: 0.3880024467666072\n",
      "loss: huber n_estimators: 3000 MSE average: 0.3890386910737357\n"
     ]
    }
   ],
   "source": [
    "parameter_string = \"loss: {0} n_estimators: {1} MSE average: {2}\"\n",
    "for parameter1 in loss:\n",
    "    for parameter2 in n_estimators:\n",
    "        boosting_model = GradientBoostingRegressor(learning_rate=learning_rate,\n",
    "                                                   loss=parameter1, n_estimators=parameter2)\n",
    "        validate_dict = cross_validate(forest_model, X, y, scoring='neg_mean_squared_error',\n",
    "                                       cv=10, return_train_score=False)\n",
    "        print(parameter_string.format(parameter1, parameter2,\n",
    "                                     -validate_dict['test_score'].mean()))"
   ]
  },
  {
   "cell_type": "markdown",
   "metadata": {},
   "source": [
    "ls and lad seemed to be about the same, I'll stick with ls for now. can't tell if n_estimators is having much of an affect at this level."
   ]
  },
  {
   "cell_type": "code",
   "execution_count": 95,
   "metadata": {},
   "outputs": [
    {
     "name": "stdout",
     "output_type": "stream",
     "text": [
      "max_depth: 2 n_estimators: 1000 MSE average: 0.3894534829875524\n",
      "max_depth: 2 n_estimators: 2000 MSE average: 0.38938071143190506\n",
      "max_depth: 2 n_estimators: 3000 MSE average: 0.38885260461333415\n",
      "max_depth: 3 n_estimators: 1000 MSE average: 0.38822283156938264\n",
      "max_depth: 3 n_estimators: 2000 MSE average: 0.38808865813534643\n",
      "max_depth: 3 n_estimators: 3000 MSE average: 0.3893165792573016\n",
      "max_depth: 4 n_estimators: 1000 MSE average: 0.38937872256921413\n",
      "max_depth: 4 n_estimators: 2000 MSE average: 0.38849149733651483\n",
      "max_depth: 4 n_estimators: 3000 MSE average: 0.38918310938380585\n",
      "max_depth: 5 n_estimators: 1000 MSE average: 0.38794836646414277\n",
      "max_depth: 5 n_estimators: 2000 MSE average: 0.3892198376859769\n",
      "max_depth: 5 n_estimators: 3000 MSE average: 0.3894034395987023\n"
     ]
    }
   ],
   "source": [
    "parameter_string = \"max_depth: {0} n_estimators: {1} MSE average: {2}\"\n",
    "for parameter1 in max_depth:\n",
    "    for parameter2 in n_estimators:\n",
    "        boosting_model = GradientBoostingRegressor(learning_rate=learning_rate,\n",
    "                                                   max_depth=parameter1, n_estimators=parameter2)\n",
    "        validate_dict = cross_validate(forest_model, X, y, scoring='neg_mean_squared_error',\n",
    "                                       cv=10, return_train_score=False)\n",
    "        print(parameter_string.format(parameter1, parameter2,\n",
    "                                     -validate_dict['test_score'].mean()))"
   ]
  },
  {
   "cell_type": "markdown",
   "metadata": {},
   "source": [
    "doesn't look very conclusive of anything. Try less trees and maybe try log2 max_features instead of the default."
   ]
  },
  {
   "cell_type": "code",
   "execution_count": 97,
   "metadata": {},
   "outputs": [
    {
     "name": "stdout",
     "output_type": "stream",
     "text": [
      "max_depth: 2 n_estimators: 100 MSE average: 0.3878849579598998\n",
      "max_depth: 2 n_estimators: 250 MSE average: 0.38973504001131165\n",
      "max_depth: 2 n_estimators: 500 MSE average: 0.3899019957906008\n",
      "max_depth: 2 n_estimators: 750 MSE average: 0.3890610550796522\n",
      "max_depth: 2 n_estimators: 1000 MSE average: 0.3890948966165174\n",
      "max_depth: 3 n_estimators: 100 MSE average: 0.38883206871280607\n",
      "max_depth: 3 n_estimators: 250 MSE average: 0.3884782459029975\n",
      "max_depth: 3 n_estimators: 500 MSE average: 0.38872551846572934\n",
      "max_depth: 3 n_estimators: 750 MSE average: 0.3884772171133755\n",
      "max_depth: 3 n_estimators: 1000 MSE average: 0.3893136762475028\n",
      "max_depth: 4 n_estimators: 100 MSE average: 0.3884498030660323\n",
      "max_depth: 4 n_estimators: 250 MSE average: 0.388854174086819\n",
      "max_depth: 4 n_estimators: 500 MSE average: 0.3894516883002986\n",
      "max_depth: 4 n_estimators: 750 MSE average: 0.3887176658725605\n",
      "max_depth: 4 n_estimators: 1000 MSE average: 0.387692589533175\n",
      "max_depth: 5 n_estimators: 100 MSE average: 0.38755340969514374\n",
      "max_depth: 5 n_estimators: 250 MSE average: 0.38931711425309784\n",
      "max_depth: 5 n_estimators: 500 MSE average: 0.3889555952746674\n",
      "max_depth: 5 n_estimators: 750 MSE average: 0.38859796407411373\n",
      "max_depth: 5 n_estimators: 1000 MSE average: 0.38946311934616135\n"
     ]
    }
   ],
   "source": [
    "parameter_string = \"max_depth: {0} n_estimators: {1} MSE average: {2}\"\n",
    "for parameter1 in max_depth:\n",
    "    for parameter2 in n_estimators:\n",
    "        boosting_model = GradientBoostingRegressor(learning_rate=learning_rate,\n",
    "                                                   max_depth=parameter1, n_estimators=parameter2,\n",
    "                                                   max_features=\"log2\")\n",
    "        validate_dict = cross_validate(forest_model, X, y, scoring='neg_mean_squared_error',\n",
    "                                       cv=10, return_train_score=False)\n",
    "        print(parameter_string.format(parameter1, parameter2,\n",
    "                                     -validate_dict['test_score'].mean()))"
   ]
  },
  {
   "cell_type": "code",
   "execution_count": null,
   "metadata": {},
   "outputs": [],
   "source": []
  }
 ],
 "metadata": {
  "kernelspec": {
   "display_name": "Python 3",
   "language": "python",
   "name": "python3"
  },
  "language_info": {
   "codemirror_mode": {
    "name": "ipython",
    "version": 3
   },
   "file_extension": ".py",
   "mimetype": "text/x-python",
   "name": "python",
   "nbconvert_exporter": "python",
   "pygments_lexer": "ipython3",
   "version": "3.6.4"
  }
 },
 "nbformat": 4,
 "nbformat_minor": 2
}
